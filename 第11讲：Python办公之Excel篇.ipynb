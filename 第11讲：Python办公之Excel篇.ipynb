{
 "cells": [
  {
   "cell_type": "markdown",
   "metadata": {},
   "source": [
    "## 第十四讲：Python办公之Excel篇-陈浩然"
   ]
  },
  {
   "cell_type": "markdown",
   "metadata": {},
   "source": [
    "## 1. 安装openxlsx"
   ]
  },
  {
   "cell_type": "markdown",
   "metadata": {},
   "source": [
    "windows+R，cmd\n",
    "1. pip install openpyxl -i https://pypi.tuna.tsinghua.edu.cn/simple/\n"
   ]
  },
  {
   "cell_type": "markdown",
   "metadata": {},
   "source": [
    "## 2.0 创建工作簿"
   ]
  },
  {
   "cell_type": "code",
   "execution_count": 1,
   "metadata": {},
   "outputs": [],
   "source": [
    "from openpyxl import Workbook\n",
    "\n",
    "wb = Workbook()\n",
    "ws = wb.active  # 获取默认的工作表\n",
    "print(ws.title)  # 返回工作表名，Sheet"
   ]
  },
  {
   "cell_type": "markdown",
   "metadata": {},
   "source": [
    " ## 2.1 保存工作簿"
   ]
  },
  {
   "cell_type": "code",
   "execution_count": 2,
   "metadata": {},
   "outputs": [
    {
     "name": "stdout",
     "output_type": "stream",
     "text": [
      "Sheet\n"
     ]
    }
   ],
   "source": [
    "# ws.title = \"default_sheet\"  # 修改工作表名\n",
    "#wb.save(r\".\\datas\\test.xlsx\")\n",
    "wb.save(\"./datas/test.xlsx\")\n",
    "wb.close()\n"
   ]
  },
  {
   "cell_type": "markdown",
   "metadata": {},
   "source": [
    "## 2.2 打开已保存工作簿"
   ]
  },
  {
   "cell_type": "code",
   "execution_count": 3,
   "metadata": {},
   "outputs": [
    {
     "name": "stdout",
     "output_type": "stream",
     "text": [
      "Sheet\n",
      "default_2\n"
     ]
    }
   ],
   "source": [
    "from openpyxl import Workbook,load_workbook\n",
    "\n",
    "wb = load_workbook('./datas/test.xlsx')  # 打开已存在的工作簿\n",
    "ws = wb.active\n",
    "print(ws.title)\n",
    "\n",
    "ws.title = \"default_2\"\n",
    "wb.save(\"./datas/test2.xlsx\")\n",
    "print(ws.title)\n",
    "wb.close()"
   ]
  },
  {
   "cell_type": "markdown",
   "metadata": {},
   "source": [
    "## 3.操作工作表"
   ]
  },
  {
   "cell_type": "markdown",
   "metadata": {},
   "source": [
    "### 3.1 获取工作表"
   ]
  },
  {
   "cell_type": "code",
   "execution_count": 8,
   "metadata": {},
   "outputs": [
    {
     "name": "stdout",
     "output_type": "stream",
     "text": [
      "Sheet\n",
      "['Sheet']\n"
     ]
    }
   ],
   "source": [
    "from openpyxl import Workbook\n",
    "\n",
    "wb = Workbook()\n",
    "ws1 = wb.active\n",
    "print(ws1.title)\n",
    "print(wb.sheetnames)\n",
    "wb.close()"
   ]
  },
  {
   "cell_type": "markdown",
   "metadata": {},
   "source": [
    "### 3.2 创建工作表"
   ]
  },
  {
   "cell_type": "code",
   "execution_count": 13,
   "metadata": {},
   "outputs": [
    {
     "name": "stdout",
     "output_type": "stream",
     "text": [
      "my_sheet3\n",
      "['Sheet', 'my_sheet2', 'my_sheet3']\n"
     ]
    }
   ],
   "source": [
    "from openpyxl import Workbook\n",
    "\n",
    "wb = Workbook()\n",
    "\n",
    "ws2 = wb.create_sheet(\"my_sheet2\", 1)## 创建工作表1\n",
    "ws3 = wb.create_sheet(\"my_sheet3\", 2)## 创建工作表2\n",
    "\n",
    "ws4 = wb[\"my_sheet3\"]\n",
    "\n",
    "print(ws4.title)\n",
    "\n",
    "print(wb.sheetnames)\n",
    "\n",
    "wb.save(\"./datas/test.xlsx\")  # 保存到硬盘\n",
    "wb.close()\n"
   ]
  },
  {
   "cell_type": "markdown",
   "metadata": {},
   "source": [
    "### 3.3 移动工作表顺序"
   ]
  },
  {
   "cell_type": "code",
   "execution_count": 32,
   "metadata": {},
   "outputs": [
    {
     "ename": "AttributeError",
     "evalue": "'Workbook' object has no attribute 'move_sheet'",
     "output_type": "error",
     "traceback": [
      "\u001b[1;31m---------------------------------------------------------------------------\u001b[0m",
      "\u001b[1;31mAttributeError\u001b[0m                            Traceback (most recent call last)",
      "\u001b[1;32m<ipython-input-32-feb5584cf6c2>\u001b[0m in \u001b[0;36m<module>\u001b[1;34m()\u001b[0m\n\u001b[0;32m      6\u001b[0m \u001b[0mws3\u001b[0m \u001b[1;33m=\u001b[0m \u001b[0mwb\u001b[0m\u001b[1;33m.\u001b[0m\u001b[0mcreate_sheet\u001b[0m\u001b[1;33m(\u001b[0m\u001b[1;34m\"my_sheet3\"\u001b[0m\u001b[1;33m,\u001b[0m \u001b[1;36m2\u001b[0m\u001b[1;33m)\u001b[0m\u001b[1;31m## 创建工作表2\u001b[0m\u001b[1;33m\u001b[0m\u001b[0m\n\u001b[0;32m      7\u001b[0m \u001b[1;33m\u001b[0m\u001b[0m\n\u001b[1;32m----> 8\u001b[1;33m \u001b[0mwb\u001b[0m\u001b[1;33m.\u001b[0m\u001b[0mmove_sheet\u001b[0m\u001b[1;33m(\u001b[0m\u001b[1;34m\"my_sheet3\"\u001b[0m\u001b[1;33m,\u001b[0m\u001b[1;33m-\u001b[0m\u001b[1;36m1\u001b[0m\u001b[1;33m)\u001b[0m\u001b[1;33m\u001b[0m\u001b[0m\n\u001b[0m\u001b[0;32m      9\u001b[0m \u001b[0mprint\u001b[0m\u001b[1;33m(\u001b[0m\u001b[0mwb\u001b[0m\u001b[1;33m.\u001b[0m\u001b[0msheetnames\u001b[0m\u001b[1;33m)\u001b[0m\u001b[1;33m\u001b[0m\u001b[0m\n\u001b[0;32m     10\u001b[0m \u001b[1;33m\u001b[0m\u001b[0m\n",
      "\u001b[1;31mAttributeError\u001b[0m: 'Workbook' object has no attribute 'move_sheet'"
     ]
    }
   ],
   "source": [
    "from openpyxl import Workbook\n",
    "\n",
    "wb = Workbook()\n",
    "\n",
    "ws2 = wb.create_sheet(\"my_sheet2\", 1)## 创建工作表1\n",
    "ws3 = wb.create_sheet(\"my_sheet3\", 2)## 创建工作表2\n",
    "\n",
    "wb.move_sheet(\"my_sheet3\",-1)\n",
    "print(wb.sheetnames)\n",
    "\n",
    "wb.save(\"./datas/test.xlsx\")  # 保存到硬盘\n",
    "wb.close()"
   ]
  },
  {
   "cell_type": "markdown",
   "metadata": {},
   "source": [
    "### 3.4 复制工作表"
   ]
  },
  {
   "cell_type": "code",
   "execution_count": 24,
   "metadata": {},
   "outputs": [
    {
     "name": "stdout",
     "output_type": "stream",
     "text": [
      "['Sheet', 'my_sheet2', 'my_sheet3', 'my_sheet3 Copy']\n"
     ]
    }
   ],
   "source": [
    "from openpyxl import Workbook\n",
    "\n",
    "wb = Workbook()\n",
    "\n",
    "ws2 = wb.create_sheet(\"my_sheet2\", 1)## 创建工作表1\n",
    "ws3 = wb.create_sheet(\"my_sheet3\", 2)## 创建工作表2\n",
    "ws4 = wb.copy_worksheet(wb[\"my_sheet3\"])\n",
    "\n",
    "print(wb.sheetnames)\n",
    "\n",
    "wb.save(\"./datas/test.xlsx\")  # 保存到硬盘\n",
    "wb.close()"
   ]
  },
  {
   "cell_type": "markdown",
   "metadata": {},
   "source": [
    "### 3.5 删除工作表"
   ]
  },
  {
   "cell_type": "code",
   "execution_count": 30,
   "metadata": {},
   "outputs": [
    {
     "name": "stdout",
     "output_type": "stream",
     "text": [
      "['Sheet', 'my_sheet2', 'my_sheet3']\n"
     ]
    },
    {
     "name": "stderr",
     "output_type": "stream",
     "text": [
      "C:\\Anaconda3\\lib\\site-packages\\ipykernel_launcher.py:11: DeprecationWarning: Call to deprecated function remove_sheet (Use wb.remove(worksheet) or del wb[sheetname]).\n",
      "  # This is added back by InteractiveShellApp.init_path()\n"
     ]
    }
   ],
   "source": [
    "from openpyxl import Workbook\n",
    "\n",
    "wb = Workbook()\n",
    "\n",
    "ws2 = wb.create_sheet(\"my_sheet2\", 1)## 创建工作表1\n",
    "ws3 = wb.create_sheet(\"my_sheet3\", 2)## 创建工作表2\n",
    "\n",
    "#ws4 = wb.copy_worksheet(wb[\"my_sheet3\"])\n",
    "ws4 = wb.copy_worksheet(ws3)\n",
    "#wb.remove(wb[\"my_sheet3 Copy\"])\n",
    "wb.remove_sheet(ws4)\n",
    "print(wb.sheetnames)\n",
    "\n",
    "wb.save(\"./datas/test.xlsx\")  # 保存到硬盘\n",
    "wb.close()"
   ]
  },
  {
   "cell_type": "markdown",
   "metadata": {},
   "source": [
    "### 3.4 工作表信息"
   ]
  },
  {
   "cell_type": "code",
   "execution_count": null,
   "metadata": {},
   "outputs": [],
   "source": [
    "# 工作表信息\n",
    "print(ws.max_row)  # 最大行数，例如14\n",
    "print(ws.max_column)  # 最大列数，例如20\n",
    "print(ws.dimensions)  # 已启用的单元格范围，例如A1:T14\n",
    "print(ws.encoding)  # 编码类型，例如utf-8\n",
    "print(ws.sheet_view)  # 对象信息\n",
    "\n",
    "print(ws.max_row)  # 最大行数，例如14\n",
    "print(ws.max_column)  # 最大列数，例如20\n",
    "print(ws.dimensions)  # 已启用的单元格范围，例如A1:T14\n",
    "print(ws.encoding)  # 编码类型，例如utf-8\n",
    "print(ws.sheet_view)  # 对象信息\n"
   ]
  },
  {
   "cell_type": "markdown",
   "metadata": {},
   "source": [
    "### 3.5 获取和修改表名，获取下标"
   ]
  },
  {
   "cell_type": "code",
   "execution_count": 35,
   "metadata": {},
   "outputs": [
    {
     "name": "stdout",
     "output_type": "stream",
     "text": [
      "my_sheet1\n",
      "my_sheet111\n",
      "<class 'list'> ['Sheet', 'my_sheet111', 'my_sheet2']\n",
      "get_index: 2\n"
     ]
    }
   ],
   "source": [
    "# 获取和修改表名，获取下标\n",
    "from openpyxl import Workbook\n",
    "\n",
    "wb = Workbook()\n",
    "ws1 = wb.create_sheet(\"my_sheet1\", 1)\n",
    "ws2 = wb.create_sheet(\"my_sheet2\", 2)\n",
    "\n",
    "# 修改表名\n",
    "print(ws1.title)  # 输出：my_sheet1\n",
    "ws1.title = \"my_sheet111\"\n",
    "print(ws1.title)  # 输出：my_sheet111\n",
    "\n",
    "# 获取所有表名\n",
    "#names = wb.get_sheet_names()  # 推荐使用下面的获取用法\n",
    "sheet_names = wb.sheetnames\n",
    "print(type(sheet_names), sheet_names)  # 输出：<class 'list'> ['Sheet', 'my_sheet111', 'my_sheet2']\n",
    "\n",
    "# 通过表名获取表\n",
    "# sheet = wb.get_sheet_by_name(\"Sheet\")  # 推荐使用下面的获取方法\n",
    "sheet = wb[\"Sheet\"]\n",
    "\n",
    "# 获取表的下标位置（下标从0开始）\n",
    "# index = wb.get_index(ws2)  # 推荐下面的获取方法\n",
    "index = wb.index(ws2)\n",
    "print(\"get_index:\", index)\n",
    "\n"
   ]
  },
  {
   "cell_type": "code",
   "execution_count": 36,
   "metadata": {},
   "outputs": [
    {
     "name": "stdout",
     "output_type": "stream",
     "text": [
      "my_sheet111\n",
      "['Sheet', 'my_sheet111', 'my_sheet2']\n",
      "['Sheet', 'my_sheet2']\n",
      "my_sheet111 Copy\n"
     ]
    }
   ],
   "source": [
    "# 移动、复制、删除表\n",
    "from openpyxl import Workbook\n",
    "\n",
    "wb = Workbook()\n",
    "ws1 = wb.create_sheet(\"my_sheet1\", 1)\n",
    "ws2 = wb.create_sheet(\"my_sheet2\", 2)\n",
    "\n",
    "ws1.title = \"my_sheet111\"\n",
    "print(ws1.title)\n",
    "print(wb.sheetnames)  # 输出：['Sheet', 'my_sheet111', 'my_sheet2']\n",
    "\n",
    "# 移动位置\n",
    "#wb.move_sheet(\"my_sheet111\", -1)   # 向前移动一个位置，正数往后，负数往前\n",
    "#print(wb.sheetnames)  # 输出：['my_sheet111', 'Sheet', 'my_sheet2']\n",
    "\n",
    "# 删除工作表\n",
    "# wb.remove_sheet(ws1)  # 方法1\n",
    "del wb[\"my_sheet111\"]  # 方法2\n",
    "print(wb.sheetnames)  # 输出：['Sheet', 'my_sheet2']\n",
    "\n",
    "# 复制工作表\n",
    "cp_sheet = wb.copy_worksheet(ws1)\n",
    "print(cp_sheet.title)  # 输出：my_sheet111 Copy\n",
    "\n"
   ]
  },
  {
   "cell_type": "markdown",
   "metadata": {},
   "source": [
    "## 4 访问单元格"
   ]
  },
  {
   "cell_type": "markdown",
   "metadata": {},
   "source": [
    "### 4.1 获取和修改单个单元格"
   ]
  },
  {
   "cell_type": "code",
   "execution_count": 39,
   "metadata": {},
   "outputs": [],
   "source": [
    "# 方法1\n",
    "from openpyxl import Workbook\n",
    "wb = Workbook()\n",
    "ws = wb.active\n",
    "\n",
    "ws['a6'] = '冰冷的希望'\n",
    "\n",
    "wb.save('./datas/test.xlsx')\n",
    "\n",
    "wb.close()"
   ]
  },
  {
   "cell_type": "code",
   "execution_count": 48,
   "metadata": {},
   "outputs": [
    {
     "name": "stdout",
     "output_type": "stream",
     "text": [
      "99\n",
      "A6\n",
      "6\n",
      "A\n"
     ]
    }
   ],
   "source": [
    "# 方法2\n",
    "from openpyxl import Workbook\n",
    "wb = Workbook()\n",
    "ws = wb.active\n",
    "#cell = ws.cell(6,1,\"冰冷的希望\")\n",
    "\n",
    "cell = ws.cell(6,1)\n",
    "cell.value = 99\n",
    "print(cell.value)\n",
    "print(cell.coordinate)\n",
    "print(cell.row)\n",
    "print(cell.column)\n",
    "\n",
    "\n",
    "    \n",
    "wb.save('./datas/test.xlsx')\n",
    "#wb.close()"
   ]
  },
  {
   "cell_type": "markdown",
   "metadata": {},
   "source": [
    "### 4.2 通过循环来准备数据"
   ]
  },
  {
   "cell_type": "code",
   "execution_count": 49,
   "metadata": {},
   "outputs": [],
   "source": [
    "from openpyxl import Workbook\n",
    "\n",
    "wb = Workbook()\n",
    "ws = wb.active\n",
    "\n",
    "x=1\n",
    "for i in range(1,11):\n",
    "    for j in range(1,6):\n",
    "        ws.cell(i,j,x)\n",
    "        x +=1\n",
    "        \n",
    "# print(ws[\"a:c\"])\n",
    "# print(ws[\"1:5\"])\n",
    "# print(ws[\"a1:c4\"])\n",
    "# print(ws[\"b\"])\n",
    "# print(ws[\"2\"])\n",
    "\n",
    "for cells in ws[\"a1:c4\"]:\n",
    "    for cell in cells:\n",
    "       cell.value = 11\n",
    "wb.save(\"test.xlsx\")\n"
   ]
  },
  {
   "cell_type": "markdown",
   "metadata": {},
   "source": [
    "## 5操作单元格"
   ]
  },
  {
   "cell_type": "markdown",
   "metadata": {},
   "source": [
    "### 5.1 合并单元格"
   ]
  },
  {
   "cell_type": "code",
   "execution_count": 52,
   "metadata": {},
   "outputs": [
    {
     "name": "stdout",
     "output_type": "stream",
     "text": [
      "13\n",
      "None\n"
     ]
    }
   ],
   "source": [
    "from openpyxl import Workbook\n",
    "\n",
    "wb = Workbook()\n",
    "ws = wb.active\n",
    "i = 1\n",
    "for x in range(1, 11):\n",
    "    for y in range(1, 11):\n",
    "        ws.cell(row=x, column=y, value=i)\n",
    "        i += 1\n",
    "\n",
    "print(ws[\"C2\"].value)  # 输出：23\n",
    "ws.merge_cells(\"b2:d4\")\n",
    "#ws.unmerge_cells(\"b2:d4\")\n",
    "print(ws[\"C2\"].value)  # 输出：None\n",
    "# 等同于下面的代码\n",
    "# ws.merge_cells(start_row=1, start_column=1, end_row=3, end_column=6)\n",
    "# ws.unmerge_cells(start_row=1, start_column=1, end_row=3, end_column=6)\n",
    "wb.save(\"./datas/test.xlsx\")\n"
   ]
  },
  {
   "cell_type": "markdown",
   "metadata": {},
   "source": [
    "### 5.2 删除或插入行列"
   ]
  },
  {
   "cell_type": "code",
   "execution_count": 53,
   "metadata": {},
   "outputs": [],
   "source": [
    "from openpyxl import Workbook\n",
    "\n",
    "wb = Workbook()\n",
    "ws = wb.active\n",
    "i = 1\n",
    "for x in range(1, 11):\n",
    "    for y in range(1, 11):\n",
    "        ws.cell(row=x, column=y, value=i)\n",
    "        i += 1\n",
    "\n",
    "ws.insert_cols(5)  # 在第5列即E列插入1列，原来的E列及后面的列都往后移动\n",
    "#ws.insert_rows(2, 3)  # 在第2行后面插入3行\n",
    "#ws.delete_cols(2, 3)  # 从2列开始往后删除3列\n",
    "#ws.delete_rows(5, -3)  # 从5行开始往前删除3行，即删除第4、3、2行\n",
    "\n",
    "wb.save(\"./datas/test.xlsx\")\n",
    "\n"
   ]
  },
  {
   "cell_type": "markdown",
   "metadata": {},
   "source": [
    "### 5.3 移动单元格"
   ]
  },
  {
   "cell_type": "code",
   "execution_count": null,
   "metadata": {},
   "outputs": [],
   "source": [
    "from openpyxl import Workbook\n",
    "\n",
    "wb = Workbook()\n",
    "ws = wb.active\n",
    "i = 1\n",
    "for x in range(1, 11):\n",
    "    for y in range(1, 11):\n",
    "        ws.cell(row=x, column=y, value=i)\n",
    "        i += 1\n",
    "\n",
    "ws.move_range(\"b1:d3\", rows=6, cols=-1, translate=False)  # 移动单元格，向下移动6行，向左移动1列\n",
    "\n",
    "wb.save(\"./datas/test.xlsx\")\n",
    "\n"
   ]
  },
  {
   "cell_type": "markdown",
   "metadata": {},
   "source": [
    "## 6 使用公式"
   ]
  },
  {
   "cell_type": "markdown",
   "metadata": {},
   "source": [
    "### 6.1可用公式"
   ]
  },
  {
   "cell_type": "code",
   "execution_count": 1,
   "metadata": {},
   "outputs": [
    {
     "name": "stdout",
     "output_type": "stream",
     "text": [
      "frozenset({'ODD', 'OFFSET', 'LOG10', 'RSQ', 'IPMT', 'PRODUCT', 'CODE', 'FIXED', 'DURATION', 'DCOUNT', 'PV', 'CONCATENATE', 'DISC', 'DEC2BIN', 'CUBESETCOUNT', 'BETADIST', 'COMPLEX', 'ISO.CEILING', 'SUMXMY2', 'ACOS', 'TRANSPOSE', 'NEGBINOMDIST', 'PHONETIC', 'ASIN', 'TINV', 'AVERAGEA', 'AREAS', 'RAND', 'ERF', 'ATANH', 'TBILLEQ', 'COVAR', 'SQRT', 'VARP', 'GETPIVOTDATA', 'ISNUMBER', 'RANK', 'DEVSQ', 'FTEST', 'MINA', 'TBILLYIELD', 'COUNTIFS', 'TTEST', 'DATE', 'NORMSINV', 'DMIN', 'CUBESET', 'MMULT', 'IMLOG2', 'FORECAST', 'PI', 'JIS', 'IMARGUMENT', 'EXP', 'YIELDDISC', 'CHOOSE', 'IMDIV', 'DOLLARFR', 'EDATE', 'SUBTOTAL', 'GROWTH', 'PRICE', 'CUBEMEMBER', 'AND', 'FDIST', 'GAMMAINV', 'ATAN', 'WORKDAY ', 'INTRATE', 'INDIRECT', 'IMAGINARY', 'IMSUM', 'DSTDEV', 'PROPER', 'NOT', 'FACT', 'ROUNDUP', 'EXACT', 'LOG', 'ISREF', 'HEX2DEC', 'CORREL', 'LOWER', 'IMCOS', 'ACCRINTM', 'SLOPE', 'OCT2BIN', 'UPPER', 'TODAY', 'MDETERM', 'SUM', 'NOMINAL', 'LINEST', 'BESSELK', 'IMPOWER', 'ODDFYIELD', 'ROUNDDOWN', 'ISPMT', 'NORMDIST', 'MAXA', 'DMAX', 'AVEDEV', 'ODDFPRICE', 'RANDBETWEEN', 'COUPNCD', 'SEARCHB', 'DAYS360', 'LEFT', 'AVERAGE', 'MATCH', 'OCT2DEC', 'TRIM', 'TIMEVALUE', 'QUARTILE', 'ACOSH', 'WEEKDAY', 'MODE', 'DAVERAGE', 'ISBLANK', 'DOLLARDE', 'LOGINV', 'ISNONTEXT', 'FVSCHEDULE', 'DEGREES', 'FINV', 'IMSQRT', 'GESTEP', 'IFERROR', 'RIGHT', 'MROUND', 'STDEVPA STEYX', 'MONTH', 'BIN2DEC', 'VARA', 'COS', 'SECOND', 'IMSUB', 'NPER', 'ZTEST', 'CLEAN', 'MID', 'WORKDAY.INTL', 'INDEX', 'T', 'WEEKNUM', 'NETWORKDAYS', 'SUMIF', 'BIN2OCT', 'INTERCEPT', 'RTD', 'CUMPRINC', 'PERCENTILE', 'BESSELI', 'AVERAGEIF', 'FISHERINV', 'QUOTIENT', 'MINVERSE', 'VLOOKUP', 'DB', 'PRICEDISC', 'CUBERANKEDMEMBER', 'NOW', 'COUNTBLANK', 'REPLACE', 'DGET', 'SMALL', 'AMORDEGRC', 'TEXT', 'IMSIN', 'IMPRODUCT', 'LOGEST', 'LARGE', 'PERMUT', 'MEDIAN', 'YIELD', 'CHAR', 'BIN2HEX', 'VALUE', 'NA', 'TIME', 'ROUND', 'MAX', 'BAHTTEXT', 'DCOUNTA', 'YEAR', 'DPRODUCT', 'OCT2HEX', 'IMLN', 'ASINH', 'IMEXP', 'DEC2HEX', 'LEN', 'PMT', 'IMABS', 'SUMIFS', 'INFO', 'CHITEST', 'NETWORKDAYS.INTL', 'CRITBINOM', 'XIRR', 'HYPERLINK', 'STANDARDIZE', 'SUMPRODUCT', 'BINOMDIST', 'IF', 'HOUR', 'XNPV', 'PEARSON', 'MDURATION', 'DATEVALUE', 'TDIST', 'EOMONTH', 'DVARP', 'NPV', 'COUNTIF', 'DDB', 'SIGN', 'STDEVP', 'REPT', 'IMLOG10', 'DVAR', 'FREQUENCY', 'ISODD', 'MULTINOMIAL', 'CEILING', 'HLOOKUP', 'FISHER', 'RADIANS', 'FACTDOUBLE', 'POISSON', 'ERFC', 'EXPONDIST', 'AVERAGEIFS', 'FIND', 'COUPNUM', 'COSH', 'ACCRINT', 'PROB', 'SKEW', 'PERCENTRANK', 'RIGHTB', 'TRIMMEAN', 'TREND', 'NORMSDIST', 'COUNT', 'ERROR.TYPE', 'LOGNORMDIST', 'HARMEAN', 'ISEVEN', 'FV', 'RATE', 'MIRR', 'KURT', 'CUBEKPIMEMBER', 'GAMMADIST', 'VAR', 'MIDB', 'SERIESSUM', 'PRICEMAT', 'BETAINV', 'FINDB', 'POWER', 'COLUMN', 'SUBSTITUTE', 'DSUM', 'STDEV STDEVA', 'IRR', 'AMORLINC', 'ROW', 'COLUMNS', 'MOD', 'TYPE', 'MINUTE', 'ROMAN', 'LN', 'COUPDAYSNC', 'COUPPCD', 'YEARFRAC', 'ODDLPRICE', 'SINH', 'CHIDIST', 'PPMT', 'VDB', 'COUNTA', 'OR', 'CHIINV', 'GAMMALN', 'FLOOR', 'EVEN', 'ISNA', 'WEIBULL', 'DOLLAR', 'REPLACEB', 'COMBIN', 'SQRTPI', 'CONFIDENCE', 'SEARCH', 'ISERR', 'BESSELY', 'FALSE', 'DATEDIF', 'EFFECT', 'MIN', 'ISERROR', 'ISLOGICAL', 'ABS', 'SUMX2MY2', 'LOOKUP', 'IMREAL', 'LEFTB', 'TANH', 'HYPGEOMDIST', 'TBILLPRICE', 'VARPA', 'DELTA', 'ECMA.CEILING', 'CUBEVALUE', 'ODDLYIELD', 'RECEIVED', 'HEX2BIN', 'ISTEXT', 'DEC2OCT', 'TRUE ADDRESS', 'ATAN2', 'TAN', 'HEX2OCT', 'CONVERT', 'SIN', 'ASC', 'SUMSQ', 'BESSELJ', 'GCD', 'GEOMEAN', 'CUBEMEMBERPROPERTY', 'DSTDEVP', 'CUMIPMT', 'DAY', 'YIELDMAT', 'LENB', 'SLN', 'NORMINV', 'IMCONJUGATE', 'N', 'CELL', 'LCM', 'SUMX2PY2', 'ROWS', 'SYD', 'COUPDAYBS', 'COUPDAYS', 'TRUNC', 'INT'})\n",
      "352\n",
      "True\n",
      "True\n",
      "False\n"
     ]
    }
   ],
   "source": [
    "from openpyxl.utils import FORMULAE\n",
    "\n",
    "print(FORMULAE)  # frozenset({'ODD', 'VDB', 'RANK', 'LOGEST', 'ISNONTEXT', 'COUNTA'...\n",
    "print(len(FORMULAE))  # 352\n",
    "\n",
    "# 判断是否支持某个公式，公式名区分大小写\n",
    "print(\"SUM\" in FORMULAE)  # True\n",
    "print(\"PI\" in FORMULAE)  # True\n",
    "print(\"sum\" in FORMULAE)  # False\n"
   ]
  },
  {
   "cell_type": "markdown",
   "metadata": {},
   "source": [
    "### 6.2 使用公式"
   ]
  },
  {
   "cell_type": "code",
   "execution_count": 21,
   "metadata": {},
   "outputs": [],
   "source": [
    "from openpyxl import Workbook\n",
    "from openpyxl.utils import FORMULAE\n",
    "from openpyxl.formula.translate import Translator\n",
    "\n",
    "wb = Workbook()\n",
    "ws = wb.active\n",
    "\n",
    "ws.append([\"价格1\", \"价格2\", \"总和\", \"平均值\"])\n",
    "ws.append([22, 63])\n",
    "ws.append([11, 88])\n",
    "ws.append([15, 68])\n",
    "\n",
    "ws[\"c2\"] = \"=SUM(A2,B2)\"  # 求和\n",
    "ws[\"d2\"] = \"=AVERAGE(A2:B2)\"  # 求平均值\n",
    "\n",
    "ws[\"c3\"] = Translator(formula = \"=SUM(A2:B2)\",origin = \"c2\")\\\n",
    "           .translate_formula(\"c3\")\n",
    "ws[\"c4\"] = Translator(formula = \"=SUM(A2:B2)\",origin = \"c2\")\\\n",
    "           .translate_formula(\"c4\")\n",
    "ws[\"d3\"] = Translator(formula = \"=AVERAGE(A2:B2)\",origin = \"d2\")\\\n",
    "           .translate_formula(\"d3\")\n",
    "ws[\"d4\"] = Translator(formula = \"=AVERAGE(A2:B2)\",origin = \"d2\")\\\n",
    "           .translate_formula(\"d4\")\n",
    "wb.save(\"./datas/test.xlsx\")\n"
   ]
  },
  {
   "cell_type": "markdown",
   "metadata": {},
   "source": [
    "### 6.3 循环计算"
   ]
  },
  {
   "cell_type": "code",
   "execution_count": 23,
   "metadata": {},
   "outputs": [],
   "source": [
    "from openpyxl import Workbook\n",
    "from openpyxl.utils import FORMULAE\n",
    "from openpyxl.formula.translate import Translator\n",
    "\n",
    "wb = Workbook()\n",
    "ws = wb.active\n",
    "\n",
    "ws.append([\"价格1\", \"价格2\", \"总和\", \"平均值\"])\n",
    "ws.append([22, 63])\n",
    "ws.append([11, 88])\n",
    "ws.append([10, 68])\n",
    "\n",
    "ws[\"c2\"] = \"=SUM(A2,B2)\"  # 求和\n",
    "ws[\"d2\"] = \"=AVERAGE(A2:B2)\"  # 求平均值\n",
    "\n",
    "for cell in ws[\"c3:c4\"]:\n",
    "    cell[0].value = Translator(formula = \"=SUM(A2:B2)\",origin = \"c2\")\\\n",
    "    .translate_formula(cell[0].coordinate)\n",
    "for cell in ws[\"d3:d4\"]:\n",
    "    cell[0].value = Translator(formula = \"=AVERAGE(A2:B2)\",origin = \"d2\")\\\n",
    "    .translate_formula(cell[0].coordinate)\n",
    "    \n",
    "wb.save(\"./datas/test.xlsx\")"
   ]
  },
  {
   "cell_type": "markdown",
   "metadata": {},
   "source": [
    "## 7 设置样式"
   ]
  },
  {
   "cell_type": "markdown",
   "metadata": {},
   "source": [
    "### 7.1 字体样式"
   ]
  },
  {
   "cell_type": "code",
   "execution_count": 28,
   "metadata": {},
   "outputs": [],
   "source": [
    "from openpyxl import Workbook\n",
    "from openpyxl.styles import Font\n",
    "\n",
    "wb = Workbook()\n",
    "ws = wb.active\n",
    "\n",
    "# 默认字体样式\n",
    "ws[\"A1\"] = \"冰冷的希望\"\n",
    "\n",
    "\n",
    "# 自定义字体样式\n",
    "\n",
    "f = Font(\n",
    "    name=\"微软雅黑\",   # 字体\n",
    "    size=15,         # 字体大小\n",
    "    color=\"0000FF\",  # 字体颜色，用16进制rgb表示\n",
    "    bold=True,       # 是否加粗，True/False\n",
    "    italic=True,     # 是否斜体，True/False\n",
    "    strike=None,     # 是否使用删除线，True/False\n",
    "    underline=None,  # 下划线, 可选'singleAccounting', 'double', 'single', 'doubleAccounting'\n",
    ")\n",
    "\n",
    "ws[\"A1\"].font = f\n",
    "\n",
    "wb.save(\"./datas/test.xlsx\")\n",
    "\n"
   ]
  },
  {
   "cell_type": "markdown",
   "metadata": {},
   "source": [
    "### 7.2 行列宽高"
   ]
  },
  {
   "cell_type": "code",
   "execution_count": 29,
   "metadata": {},
   "outputs": [],
   "source": [
    "from openpyxl import Workbook\n",
    "wb = Workbook()\n",
    "ws = wb.active\n",
    "\n",
    "ws.row_dimensions[2].height = 30  # 设置第2行高度为30\n",
    "ws.column_dimensions[\"B\"].width = 30  # 设置B列宽度为30\n",
    "\n",
    "wb.save(\"./datas/test.xlsx\")\n"
   ]
  },
  {
   "cell_type": "markdown",
   "metadata": {},
   "source": [
    "### 7.3 对齐方式"
   ]
  },
  {
   "cell_type": "code",
   "execution_count": 34,
   "metadata": {},
   "outputs": [],
   "source": [
    "from openpyxl import Workbook\n",
    "from openpyxl.styles import Alignment\n",
    "\n",
    "wb = Workbook()\n",
    "ws = wb.active\n",
    "\n",
    "ws.row_dimensions[2].height = 30  # 设置第2行高度为30\n",
    "ws.column_dimensions[\"B\"].width = 10  # 设置B列宽度为30\n",
    "\n",
    "# 默认字体样式\n",
    "ws[\"A1\"] = \"A1\"\n",
    "\n",
    "ws[\"B2\"] = \"冰冷的希望\"\n",
    "ws['B2'].alignment = Alignment(\n",
    "    horizontal='center',  # 水平对齐，可选general、left、center、right、fill、justify、centerContinuous、distributed\n",
    "    vertical='top',  # 垂直对齐， 可选top、center、bottom、justify、distributed\n",
    "    text_rotation=0,  # 字体旋转，0~180整数\n",
    "    wrap_text=True,  # 是否自动换行\n",
    "    shrink_to_fit=False,  # 是否缩小字体填充\n",
    "    indent=0,  # 缩进值\n",
    ")\n",
    "\n",
    "wb.save(\"./datas/test.xlsx\")\n",
    "\n"
   ]
  },
  {
   "cell_type": "markdown",
   "metadata": {},
   "source": [
    "### 7.4 边框"
   ]
  },
  {
   "cell_type": "code",
   "execution_count": 37,
   "metadata": {},
   "outputs": [],
   "source": [
    "from openpyxl import Workbook\n",
    "from openpyxl.styles import Border, Side\n",
    "\n",
    "wb = Workbook()\n",
    "ws = wb.active\n",
    "\n",
    "ws[\"B2\"] = \"冰冷的希望\"\n",
    "\n",
    "side = Side(\n",
    "    style=\"medium\",  # 边框样式，可选dashDot、dashDotDot、dashed、dotted、double、hair、medium、mediumDashDot、mediumDashDotDot、mediumDashed、slantDashDot、thick、thin\n",
    "    color=\"ff66dd\",  # 边框颜色，16进制rgb表示\n",
    ")\n",
    "\n",
    "ws[\"B2\"].border = Border(\n",
    "    top=side,  # 上\n",
    "    bottom=side,  # 下\n",
    "    left=side,  # 左\n",
    "    right=side,  # 右\n",
    "    diagonal=side  # 对角线\n",
    ")\n",
    "\n",
    "wb.save(\"./datas/test.xlsx\")\n",
    "\n"
   ]
  },
  {
   "cell_type": "markdown",
   "metadata": {},
   "source": [
    "### 7.5 填充和渐变"
   ]
  },
  {
   "cell_type": "code",
   "execution_count": 38,
   "metadata": {},
   "outputs": [],
   "source": [
    "from openpyxl import Workbook\n",
    "from openpyxl.styles import PatternFill, GradientFill\n",
    "\n",
    "wb = Workbook()\n",
    "ws = wb.active\n",
    "\n",
    "ws[\"B2\"] = \"冰冷的希望\"\n",
    "\n",
    "fill = PatternFill(\n",
    "    patternType=\"solid\",  # 填充类型，可选none、solid、darkGray、mediumGray、lightGray、lightDown、lightGray、lightGrid\n",
    "    fgColor=\"F562a4\",  # 前景色，16进制rgb\n",
    "    bgColor=\"0000ff\",  # 背景色，16进制rgb\n",
    "    # fill_type=None,  # 填充类型\n",
    "    # start_color=None, # 前景色，16进制rgb\n",
    "    # end_color=None    # 背景色，16进制rgb\n",
    ")\n",
    "ws[\"B2\"].fill = fill\n",
    "ws[\"B3\"].fill = GradientFill(\n",
    "    degree=60,  # 角度\n",
    "    stop=(\"000000\", \"FFFFFF\")  # 渐变颜色，16进制rgb\n",
    ")\n",
    "\n",
    "wb.save(\"./datas/test.xlsx\")\n",
    "\n"
   ]
  },
  {
   "cell_type": "markdown",
   "metadata": {},
   "source": [
    "## 8 过滤和排序"
   ]
  },
  {
   "cell_type": "code",
   "execution_count": 45,
   "metadata": {},
   "outputs": [],
   "source": [
    "from openpyxl import Workbook\n",
    "\n",
    "wb = Workbook()\n",
    "ws = wb.active\n",
    "\n",
    "# 准备数据\n",
    "text = [\n",
    "    ['月份', '桃子', '西瓜', '龙眼'],\n",
    "    [1, 38, 28, 29],\n",
    "    [2, 52, 21, 35],\n",
    "    [3, 39, 20, 69],\n",
    "    [4, 51, 29, 41],\n",
    "    [5, 39, 39, 31],\n",
    "    [6, 30, 41, 39],\n",
    "]\n",
    "for row in text:\n",
    "    ws.append(row)\n",
    "\n",
    "ws.auto_filter.ref = \"A1:D7\"  # 选择数据范围\n",
    "ws.auto_filter.add_filter_column(1, [\"39\", \"29\", \"30\"])  # 选择第2列为过滤数据（下标从0开始），并勾选需要过滤的数据项\n",
    "ws.auto_filter.add_sort_condition(\"C2:C7\", True)  # 设置排序范围，第二个参数是是否倒序，默认为否\n",
    "\n",
    "wb.save(\"./datas/test.xlsx\")\n"
   ]
  },
  {
   "cell_type": "markdown",
   "metadata": {},
   "source": [
    "### Pandas操作排序"
   ]
  },
  {
   "cell_type": "code",
   "execution_count": 51,
   "metadata": {},
   "outputs": [],
   "source": [
    "import pandas as pd\n",
    "from openpyxl import Workbook\n",
    "\n",
    "wb = Workbook()\n",
    "ws = wb.active\n",
    "\n",
    "# 准备数据\n",
    "text = [\n",
    "    ['月份', '桃子', '西瓜', '龙眼'],\n",
    "    [1, 38, 28, 29],\n",
    "    [2, 52, 21, 35],\n",
    "    [3, 39, 20, 69],\n",
    "    [4, 51, 29, 41],\n",
    "    [5, 39, 39, 31],\n",
    "    [6, 30, 41, 39],\n",
    "]\n",
    "for row in text:\n",
    "    ws.append(row)\n",
    "wb.save(\"./datas/test.xlsx\")\n",
    "\n",
    "df = pd.read_excel(\"./datas/test.xlsx\",sheet_name = \"Sheet\")\n",
    "df_value = df.sort_values(by = [\"桃子\",\"西瓜\"],ascending= False)\n",
    "writer = pd.ExcelWriter(\"./datas/text2.xlsx\")\n",
    "df_value.to_excel(writer, sheet_name = \"Sheet2\", index = False)\n",
    "writer.save()"
   ]
  },
  {
   "cell_type": "markdown",
   "metadata": {},
   "source": [
    "## 9 插入图表"
   ]
  },
  {
   "cell_type": "code",
   "execution_count": 53,
   "metadata": {},
   "outputs": [],
   "source": [
    "# 折线图代码，https://openpyxl.readthedocs.io/en/stable/charts/introduction.html\n",
    "from openpyxl import Workbook\n",
    "from openpyxl.chart import LineChart, Reference\n",
    "\n",
    "wb = Workbook()\n",
    "ws = wb.active\n",
    "\n",
    "# 准备数据\n",
    "rows = [\n",
    "    ['月份', '桃子', '西瓜', '龙眼'],\n",
    "    [1, 38, 28, 29],\n",
    "    [2, 52, 21, 35],\n",
    "    [3, 39, 20, 69],\n",
    "    [4, 51, 29, 41],\n",
    "    [5, 29, 39, 31],\n",
    "    [6, 30, 41, 39],\n",
    "]\n",
    "for row in rows:\n",
    "    ws.append(row)\n",
    "\n",
    "# 创建图表\n",
    "c1 = LineChart()\n",
    "c1.title = \"水果销量折线图\"  # 标题\n",
    "c1.style = 13  # 样式\n",
    "c1.y_axis.title = '销量'  # Y轴\n",
    "c1.x_axis.title = '月份'  # X轴\n",
    "\n",
    "# 选择数据范围\n",
    "data = Reference(ws, min_col=2, min_row=1, max_col=4, max_row=7)\n",
    "c1.add_data(data, titles_from_data=True)\n",
    "\n",
    "# 线条样式\n",
    "s0 = c1.series[0]\n",
    "s0.marker.symbol = \"triangle\"  # triangle为三角形标记，\n",
    "#可选circle、dash、diamond、dot、picture、plus、square、star、\n",
    "#triangle、x、auto\n",
    "s0.marker.graphicalProperties.solidFill = \"FF0000\"  # 填充颜色\n",
    "s0.marker.graphicalProperties.line.solidFill = \"0000FF\"  # 边框颜色\n",
    "# s0.graphicalProperties.line.noFill = True  # 改为True则隐藏线条，但显示标记形状\n",
    "\n",
    "s1 = c1.series[1]\n",
    "s1.graphicalProperties.line.solidFill = \"00AAAA\"\n",
    "s1.graphicalProperties.line.dashStyle = \"sysDot\"  # 线条点状样式\n",
    "s1.graphicalProperties.line.width = 80000  # 线条大小，最大20116800EMUs\n",
    "\n",
    "s2 = c1.series[2]  # 采用默认设置\n",
    "s2.smooth = True  # 线条平滑\n",
    "\n",
    "ws.add_chart(c1, \"A8\")  # 图表位置\n",
    "\n",
    "wb.save(\"./datas/test.xlsx\")\n",
    "\n"
   ]
  },
  {
   "cell_type": "markdown",
   "metadata": {},
   "source": [
    "## 10 只读只写"
   ]
  },
  {
   "cell_type": "markdown",
   "metadata": {},
   "source": [
    "### 10.1 只读"
   ]
  },
  {
   "cell_type": "code",
   "execution_count": 55,
   "metadata": {},
   "outputs": [
    {
     "name": "stdout",
     "output_type": "stream",
     "text": [
      "月份\n",
      "桃子\n",
      "西瓜\n",
      "龙眼\n",
      "1\n",
      "38\n",
      "28\n",
      "29\n",
      "2\n",
      "52\n",
      "21\n",
      "35\n",
      "3\n",
      "39\n",
      "20\n",
      "69\n",
      "4\n",
      "51\n",
      "29\n",
      "41\n",
      "5\n",
      "29\n",
      "39\n",
      "31\n",
      "6\n",
      "30\n",
      "41\n",
      "39\n"
     ]
    }
   ],
   "source": [
    "from openpyxl import load_workbook\n",
    "\n",
    "# 加载Excel文件时使用read_only指定只读模式\n",
    "wb = load_workbook(filename='./datas/test.xlsx', read_only=True)\n",
    "ws = wb[\"Sheet\"]\n",
    "\n",
    "# 可以正常读取值\n",
    "for row in ws.rows:\n",
    "    for cell in row:\n",
    "        print(cell.value)\n",
    "\n",
    "# 注意：读取完之后需要手动关闭避免内存泄露\n",
    "wb.close()\n"
   ]
  },
  {
   "cell_type": "markdown",
   "metadata": {},
   "source": [
    "### 10.2 只写"
   ]
  },
  {
   "cell_type": "code",
   "execution_count": 56,
   "metadata": {},
   "outputs": [],
   "source": [
    "from openpyxl import Workbook\n",
    "from openpyxl.cell import WriteOnlyCell\n",
    "from openpyxl.comments import Comment\n",
    "from openpyxl.styles import Font\n",
    "\n",
    "wb = Workbook(write_only=True)  # 创建工作簿时指定只写模式\n",
    "ws = wb.create_sheet()  # 需要通过create_sheet创建一个sheet\n",
    "\n",
    "# 可以正常保存数据\n",
    "for _ in range(100):\n",
    "    ws.append([i for i in range(200)])  # 只能通过append写\n",
    "\n",
    "# 如果需要保留公式、注释等操作，可以使用WriteOnlyCell\n",
    "cell = WriteOnlyCell(ws, value=\"冰冷的希望\")\n",
    "cell.font = Font(name='黑体', size=15)\n",
    "cell.comment = Comment(text=\"这是注释\", author=\"pan\")\n",
    "\n",
    "ws.append([cell])\n",
    "\n",
    "wb.save('datas/test.xlsx')\n"
   ]
  },
  {
   "cell_type": "markdown",
   "metadata": {},
   "source": [
    "只写模式注意点：\n",
    "1.需要通过create_sheet()创建表\n",
    "2.只能通过append()增加数据，不能通过cell或iter_rows()\n",
    "3.wb.save()之后不能再修改，否则抛出WorkbookAlreadySaved异常"
   ]
  }
 ],
 "metadata": {
  "kernelspec": {
   "display_name": "Python 3",
   "language": "python",
   "name": "python3"
  },
  "language_info": {
   "codemirror_mode": {
    "name": "ipython",
    "version": 3
   },
   "file_extension": ".py",
   "mimetype": "text/x-python",
   "name": "python",
   "nbconvert_exporter": "python",
   "pygments_lexer": "ipython3",
   "version": "3.7.0"
  }
 },
 "nbformat": 4,
 "nbformat_minor": 2
}
