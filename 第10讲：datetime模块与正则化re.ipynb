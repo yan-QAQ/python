{
 "cells": [
  {
   "cell_type": "markdown",
   "metadata": {},
   "source": [
    "# 第十一讲：datatime模块与正则化re"
   ]
  },
  {
   "cell_type": "markdown",
   "metadata": {},
   "source": [
    "## 第一部分 datatime模块"
   ]
  },
  {
   "cell_type": "markdown",
   "metadata": {},
   "source": [
    "## 案例11.1 获取当前日期和时间"
   ]
  },
  {
   "cell_type": "code",
   "execution_count": 1,
   "metadata": {},
   "outputs": [
    {
     "name": "stdout",
     "output_type": "stream",
     "text": [
      "2022-05-30 17:35:07.114051 <class 'datetime.datetime'>\n",
      "str_time 2022-05-30 17:35:07\n",
      "year 2022\n",
      "month 5\n",
      "day 30\n",
      "hour 17\n",
      "minute 35\n",
      "second 7\n"
     ]
    }
   ],
   "source": [
    "# -- coding: utf-8 --\n",
    "import datetime\n",
    "\n",
    "curr_datetime = datetime.datetime.now()\n",
    "\n",
    "print(curr_datetime, type(curr_datetime))\n",
    "# data time to string\n",
    "str_time =curr_datetime.strftime(\"%Y-%m-%d %H:%M:%S\")\n",
    "print(\"str_time\", str_time)\n",
    "\n",
    "print(\"year\", curr_datetime.year)\n",
    "print(\"month\", curr_datetime.month)\n",
    "print(\"day\", curr_datetime.day)\n",
    "print(\"hour\", curr_datetime.hour)\n",
    "print(\"minute\", curr_datetime.minute)\n",
    "print(\"second\", curr_datetime.second)"
   ]
  },
  {
   "cell_type": "markdown",
   "metadata": {},
   "source": [
    "## 案例11.2 计算两个日期相隔的天数"
   ]
  },
  {
   "cell_type": "code",
   "execution_count": 2,
   "metadata": {},
   "outputs": [
    {
     "name": "stdout",
     "output_type": "stream",
     "text": [
      "1997-12-20 00:00:00 <class 'datetime.datetime'>\n",
      "8927 days, 17:35:20.896039 <class 'datetime.timedelta'>\n",
      "24.457534246575342\n"
     ]
    }
   ],
   "source": [
    "import datetime\n",
    "\n",
    "birthday = \"1997-12-20\"\n",
    "birthday_date = datetime.datetime.strptime(birthday, \"%Y-%m-%d\")\n",
    "curr_datetime = datetime.datetime.now()\n",
    "print(birthday_date, type(curr_datetime))\n",
    "\n",
    "minus_datetime = curr_datetime-birthday_date\n",
    "print(minus_datetime, type(minus_datetime))\n",
    "\n",
    "print(minus_datetime.days/365)"
   ]
  },
  {
   "cell_type": "markdown",
   "metadata": {},
   "source": [
    "## 案例11.3 计算任意日期7天前的日期"
   ]
  },
  {
   "cell_type": "code",
   "execution_count": 3,
   "metadata": {},
   "outputs": [
    {
     "name": "stdout",
     "output_type": "stream",
     "text": [
      "2021-04-28 1 2021-04-29\n",
      "2021-04-28 3 2021-05-01\n",
      "2021-04-28 7 2021-05-05\n",
      "2021-04-01 3 2021-04-04\n"
     ]
    }
   ],
   "source": [
    "import datetime\n",
    "\n",
    "def get_diff_days(pdate,days):\n",
    "    pdate_obj = datetime.datetime.strptime(pdate, \"%Y-%m-%d\")\n",
    "    time_gap = datetime.timedelta(days = days)\n",
    "    #print(time_gap, type(time_gap))\n",
    "    pdate_result = pdate_obj+time_gap\n",
    "    return pdate_result.strftime(\"%Y-%m-%d\")\n",
    "\n",
    "print(\"2021-04-28\", 1, get_diff_days(\"2021-04-28\", 1))\n",
    "print(\"2021-04-28\", 3, get_diff_days(\"2021-04-28\", 3))\n",
    "print(\"2021-04-28\", 7, get_diff_days(\"2021-04-28\", 7))\n",
    "print(\"2021-04-01\", 3, get_diff_days(\"2021-04-01\", 3))"
   ]
  },
  {
   "cell_type": "markdown",
   "metadata": {},
   "source": [
    "## 案例11.5 计算日期范围内的所有日期"
   ]
  },
  {
   "cell_type": "code",
   "execution_count": 5,
   "metadata": {},
   "outputs": [
    {
     "name": "stdout",
     "output_type": "stream",
     "text": [
      "2021-12-29 <class 'str'>\n",
      "2021-12-30 <class 'str'>\n",
      "2021-12-31 <class 'str'>\n",
      "2022-01-01 <class 'str'>\n",
      "2022-01-02 <class 'str'>\n",
      "2022-01-03 <class 'str'>\n",
      "2022-01-04 <class 'str'>\n",
      "['2021-12-28', '2021-12-29', '2021-12-30', '2021-12-31', '2022-01-01', '2022-01-02', '2022-01-03']\n"
     ]
    }
   ],
   "source": [
    "import datetime\n",
    "def get_date_range(begin_date, end_date):\n",
    "    date_list =[]\n",
    "    while begin_date <= end_date:\n",
    "        date_list.append(begin_date)\n",
    "        begin_date_object = datetime.datetime.strptime(begin_date, \"%Y-%m-%d\")\n",
    "        days1_dalta = datetime.timedelta(days=1)\n",
    "        begin_date = (begin_date_object+days1_dalta).strftime(\"%Y-%m-%d\")\n",
    "        print(begin_date,type(begin_date))\n",
    "    return date_list\n",
    "\n",
    "begin_date = \"2021-12-28\"\n",
    "end_date = \"2022-01-03\"\n",
    "date_list = get_date_range(begin_date, end_date)\n",
    "print(date_list)"
   ]
  },
  {
   "cell_type": "markdown",
   "metadata": {},
   "source": [
    "## 案例11.6 将Unix时间戳转化成格式化日期"
   ]
  },
  {
   "cell_type": "code",
   "execution_count": 6,
   "metadata": {},
   "outputs": [
    {
     "name": "stdout",
     "output_type": "stream",
     "text": [
      "2021-05-11 23:40:47\n"
     ]
    }
   ],
   "source": [
    "import datetime\n",
    "\n",
    "unix_time = 1620747647\n",
    "# unix_time = 100000\n",
    "datetime_obj = datetime.datetime.fromtimestamp(unix_time)\n",
    "datetime_str = datetime_obj.strftime(\"%Y-%m-%d %H:%M:%S\")\n",
    "print(datetime_str)"
   ]
  },
  {
   "cell_type": "markdown",
   "metadata": {},
   "source": [
    "## 案例11.7 计算日期数据的同周比"
   ]
  },
  {
   "cell_type": "code",
   "execution_count": 7,
   "metadata": {},
   "outputs": [
    {
     "name": "stdout",
     "output_type": "stream",
     "text": [
      "2021-04-16 93.0 2021-04-23 73.0 -0.273972602739726\n",
      "2021-04-17 88.0 2021-04-24 75.0 -0.17333333333333334\n",
      "2021-04-18 91.0 2021-04-25 95.0 0.042105263157894736\n",
      "2021-04-19 84.0 2021-04-26 90.0 0.06666666666666667\n",
      "2021-04-20 88.0 2021-04-27 72.0 -0.2222222222222222\n",
      "2021-04-21 99.0 2021-04-28 75.0 -0.32\n",
      "2021-04-22 85.0 2021-04-29 84.0 -0.011904761904761904\n",
      "2021-04-23 73.0 2021-04-30 90.0 0.18888888888888888\n",
      "2021-04-24 75.0 2021-05-01 93.0 0.1935483870967742\n",
      "2021-04-25 95.0 2021-05-02 64.0 -0.484375\n",
      "2021-04-26 90.0 2021-05-03 85.0 -0.058823529411764705\n",
      "2021-04-27 72.0 2021-05-04 86.0 0.16279069767441862\n",
      "2021-04-28 75.0 2021-05-05 60.0 -0.25\n",
      "2021-04-29 84.0 2021-05-06 78.0 -0.07692307692307693\n",
      "2021-04-30 90.0 2021-05-07 79.0 -0.13924050632911392\n",
      "2021-05-01 93.0 2021-05-08 85.0 -0.09411764705882353\n",
      "2021-05-02 64.0 2021-05-09 91.0 0.2967032967032967\n",
      "2021-05-03 85.0 2021-05-10 94.0 0.09574468085106383\n",
      "2021-05-04 86.0 2021-05-11 93.0 0.07526881720430108\n",
      "2021-05-05 60.0 2021-05-12 75.0 0.2\n",
      "2021-05-06 78.0 2021-05-13 86.0 0.09302325581395349\n",
      "2021-05-07 79.0 2021-05-14 88.0 0.10227272727272728\n",
      "2021-05-08 85.0 2021-05-15 78.0 -0.08974358974358974\n",
      "2021-05-09 91.0 2021-05-16 90.0 -0.011111111111111112\n",
      "2021-05-10 94.0 2021-05-17 69.0 -0.36231884057971014\n",
      "2021-05-11 93.0 2021-05-18 95.0 0.021052631578947368\n",
      "2021-05-12 75.0 0\n",
      "2021-05-13 86.0 0\n",
      "2021-05-14 88.0 0\n",
      "2021-05-15 78.0 0\n",
      "2021-05-16 90.0 0\n",
      "2021-05-17 69.0 0\n",
      "2021-05-18 95.0 0\n"
     ]
    }
   ],
   "source": [
    "# -- coding: utf-8 --\n",
    "import datetime\n",
    "date_sale = {}\n",
    "is_first_line = True\n",
    "with open(\"./datas/date_sale_data.txt\", encoding='utf-8') as fin:\n",
    "    for line in fin:\n",
    "        if is_first_line:\n",
    "            is_first_line = False\n",
    "            continue\n",
    "        line = line[:-1]\n",
    "        date, sale_number = line.split(\" \")\n",
    "        date_sale[date] = float(sale_number)\n",
    "\n",
    "# print(date_sale)\n",
    "\n",
    "def get_diff_days(date,days):\n",
    "    curr_date = datetime.datetime.strptime(date, \"%Y-%m-%d\")\n",
    "    time_gap = datetime.timedelta(days = days)\n",
    "    #print(time_gap, type(time_gap))\n",
    "    date_result = curr_date+time_gap\n",
    "    return date_result.strftime(\"%Y-%m-%d\")\n",
    "for date, sale_number in date_sale.items():\n",
    "    date7 = get_diff_days(date,7)\n",
    "    sale_number7 = date_sale.get(date7,0)\n",
    "    if sale_number7 == 0:\n",
    "        print(date,sale_number,0)\n",
    "    else:\n",
    "        week_diff = (sale_number7 - sale_number)/sale_number7\n",
    "        print(date, sale_number,date7, sale_number7, week_diff)"
   ]
  },
  {
   "cell_type": "markdown",
   "metadata": {},
   "source": [
    "## 第二部分：re正则表达式 "
   ]
  },
  {
   "cell_type": "markdown",
   "metadata": {},
   "source": [
    "## 案例11.8 正则表达式判断字符串是否为日期"
   ]
  },
  {
   "cell_type": "code",
   "execution_count": 8,
   "metadata": {},
   "outputs": [
    {
     "name": "stdout",
     "output_type": "stream",
     "text": [
      "2021-05-20 True\n",
      "202-05-20 False\n",
      "2021/05-20 False\n",
      "20210520 False\n"
     ]
    }
   ],
   "source": [
    "import re\n",
    "\n",
    "def date_is_right(date):\n",
    "    return re.match(\"\\d{4}-\\d{2}-\\d{2}\",date) is not None\n",
    "\n",
    "date1 = \"2021-05-20\"\n",
    "date2 = \"202-05-20\"\n",
    "date3 = \"2021/05-20\"\n",
    "date4 = \"20210520\"\n",
    "\n",
    "print(date1, date_is_right(date1))\n",
    "print(date2, date_is_right(date2))\n",
    "print(date3, date_is_right(date3))\n",
    "print(date4, date_is_right(date4))"
   ]
  },
  {
   "cell_type": "markdown",
   "metadata": {},
   "source": [
    "## 案例11.8 从文本中提取手机号"
   ]
  },
  {
   "cell_type": "code",
   "execution_count": 9,
   "metadata": {},
   "outputs": [
    {
     "name": "stdout",
     "output_type": "stream",
     "text": [
      "19989881888\n",
      "15619292345\n"
     ]
    }
   ],
   "source": [
    "content = \"\"\"\n",
    "白日依19989881888山尽，黄河入456577788778海流。\n",
    "欲穷千12345里目，更上一层15619292345楼\n",
    "\"\"\"\n",
    "\n",
    "# 手机号：1开头，第二位3-9，总共11位\n",
    "import re\n",
    "pattern = r\"1[3-9]\\d{9}\"\n",
    "results = re.findall(pattern, content)\n",
    "for result in results:\n",
    "    print(result)"
   ]
  },
  {
   "cell_type": "markdown",
   "metadata": {},
   "source": [
    "## 案例11.9 批量提取网页上的手机号码"
   ]
  },
  {
   "cell_type": "code",
   "execution_count": 11,
   "metadata": {},
   "outputs": [
    {
     "name": "stdout",
     "output_type": "stream",
     "text": [
      "13413513613\n",
      "13813914715\n",
      "15115215715\n",
      "15917217818\n",
      "18318418718\n",
      "13837134444\n",
      "13837124444\n",
      "18848871111\n",
      "17839970000\n",
      "13460331111\n",
      "18203714444\n",
      "15203714444\n",
      "19837173333\n",
      "13783407777\n",
      "13838240000\n",
      "15036034444\n",
      "13598850000\n",
      "13838070000\n",
      "13938473333\n",
      "13674953333\n",
      "13949143333\n",
      "13613852222\n",
      "18837192222\n",
      "13663830000\n",
      "13653821111\n",
      "13643851111\n",
      "13598441111\n",
      "13598443333\n",
      "13949053333\n",
      "15937163333\n",
      "15838294444\n",
      "13523446666\n",
      "15713897777\n",
      "15138917777\n",
      "18837192222\n",
      "13613852222\n",
      "15939023333\n",
      "13526701111\n",
      "13592531111\n",
      "13523493333\n",
      "15237834444\n",
      "13839974444\n",
      "18836884444\n",
      "18736906666\n",
      "15890194444\n",
      "18039103999\n",
      "18039103999\n",
      "18039103999\n"
     ]
    }
   ],
   "source": [
    "import re\n",
    "\n",
    "pattern = r\"1[3-9]\\d{9}\"\n",
    "\n",
    "file_cont = \"\"\n",
    "with open(\"./datas/webpage_phone_numbers.txt\", encoding= 'utf-8') as fin:\n",
    "    file_cont = fin.read()\n",
    "results = re.findall(pattern, file_cont)\n",
    "#print(results)\n",
    "for result in results:\n",
    "    print(result)"
   ]
  },
  {
   "cell_type": "markdown",
   "metadata": {},
   "source": [
    "## 案例11.10 自动提取电子邮箱地址"
   ]
  },
  {
   "cell_type": "code",
   "execution_count": 12,
   "metadata": {},
   "outputs": [
    {
     "name": "stdout",
     "output_type": "stream",
     "text": [
      "12345@qq.com\n",
      "python666@163.cn\n",
      "chenhaoran@zzuli.edu.cn\n",
      "python_ant-666@sina.net\n"
     ]
    }
   ],
   "source": [
    "# -- coding: utf-8 --\n",
    "content = \"\"\"\n",
    "寻隐者12345@qq.com不遇\n",
    "朝代：唐absef123#abf.com代\n",
    "作python666@163.cn者：贾岛\n",
    "松下问chenhaoran@zzuli.edu.cn童子，言python-abc@163com师采药去。\n",
    "只在python_ant-666@sina.net此山中，云深不知处。\n",
    "\"\"\"\n",
    "import re\n",
    "pattern = re.compile(r\"\"\"\n",
    "[a-zA-Z0-9_-]+\n",
    "@\n",
    "[a-zA-Z0-9_-]+\n",
    "\\.\n",
    "[a-z.+]*\n",
    "[a-zA-Z]{2,4}\n",
    "\"\"\", re.VERBOSE)\n",
    "\n",
    "results = pattern.findall(content)\n",
    "for result in results:\n",
    "    print(result)"
   ]
  },
  {
   "cell_type": "markdown",
   "metadata": {},
   "source": [
    "## 案例11.11 验证用户密码是否规范"
   ]
  },
  {
   "cell_type": "code",
   "execution_count": 13,
   "metadata": {},
   "outputs": [
    {
     "name": "stdout",
     "output_type": "stream",
     "text": [
      "Helloworld#666 (True, None)\n",
      "Helloworld# (False, '必须包含1个数字')\n",
      "Helloworld666 (False, '必须包含1个特殊字符')\n",
      "helloworld#666 (False, '必须包含1个大写字母')\n"
     ]
    }
   ],
   "source": [
    "# -- coding: utf-8 --\n",
    "\"\"\"\n",
    "写一个函数，验证密码是否满足条件\n",
    "1.长度位于[6,20]之间\n",
    "2.必须包含至少1个小写字母\n",
    "3.必须包含至少1个大写字母\n",
    "4.至少包含1个数字\n",
    "5.必须包含至少1个特殊字符\n",
    "\n",
    "返回\n",
    "True,none或者False,原因\n",
    "\"\"\"\n",
    "import re\n",
    "def check_password(password):\n",
    "    if not 6<=len(password)<=20:\n",
    "        return False,\"密码必须在6~20之间\"\n",
    "    if not re.findall(r\"[a-z]\",password):\n",
    "        return False,\"必须包含1个小写字母\"\n",
    "    if not re.findall(r\"[A-Z]\",password):\n",
    "        return False,\"必须包含1个大写字母\"\n",
    "    if not re.findall(r\"[0-9]\",password):\n",
    "        return False,\"必须包含1个数字\"\n",
    "    if not re.findall(r\"[^0-9a-zA-Z]\",password):\n",
    "        return False,\"必须包含1个特殊字符\"\n",
    "    return True, None\n",
    "print(\"Helloworld#666\",check_password(\"Helloworld#666\"))\n",
    "print(\"Helloworld#\",check_password(\"Helloworld#\"))\n",
    "print(\"Helloworld666\",check_password(\"Helloworld666\"))\n",
    "print(\"helloworld#666\",check_password(\"helloworld#666\"))\n"
   ]
  },
  {
   "cell_type": "markdown",
   "metadata": {},
   "source": [
    "## 案例11.12 提取商品价格"
   ]
  },
  {
   "cell_type": "code",
   "execution_count": 14,
   "metadata": {},
   "outputs": [
    {
     "name": "stdout",
     "output_type": "stream",
     "text": [
      "1\t黄瓜\t8\n",
      "2\t葡萄\t13.5\n",
      "3\t白菜\t5.4\n"
     ]
    }
   ],
   "source": [
    "# -- coding: utf-8 --\n",
    "\n",
    "content = \"\"\"\n",
    "小明上街买菜\n",
    "买了1斤黄瓜花了8元；\n",
    "买了2斤葡萄花了13.5元；\n",
    "买了3斤白菜花了5.4元\n",
    "\"\"\"\n",
    "# 要求提取（1.黄瓜、8）、（2、葡萄、13.5）、（3、白菜、5.4）\n",
    "\n",
    "import re\n",
    "\n",
    "for line in content.split(\"\\n\"):\n",
    "    pattern = r\"(\\d)斤(.*)花了(\\d+(\\.\\d+)?)元\"\n",
    "    match = re.search(pattern, line)\n",
    "    if match:\n",
    "        print(f\"{match.group(1)}\\t{match.group(2)}\\t{match.group(3)}\")\n",
    "        #print(match.groups())\n",
    "\n"
   ]
  },
  {
   "cell_type": "markdown",
   "metadata": {},
   "source": [
    "## 案例11.13 给文章中的手机号打马赛克"
   ]
  },
  {
   "cell_type": "code",
   "execution_count": 15,
   "metadata": {},
   "outputs": [
    {
     "name": "stdout",
     "output_type": "stream",
     "text": [
      "\n",
      "白日依19******山尽，黄河入456577788778海流。\n",
      "欲穷千12345里目，更上一层15******楼\n",
      "\n"
     ]
    }
   ],
   "source": [
    "# -- coding: utf-8 --\n",
    "content = \"\"\"\n",
    "白日依19989881888山尽，黄河入456577788778海流。\n",
    "欲穷千12345里目，更上一层15619292345楼\n",
    "\"\"\"\n",
    "import re\n",
    "\n",
    "pattern = r\"(1[3-9])\\d{9}\"\n",
    "print(re.sub(pattern, r\"\\1******\", content))"
   ]
  },
  {
   "cell_type": "markdown",
   "metadata": {},
   "source": [
    "## 案例11.14 进行多种日期格式的标准化"
   ]
  },
  {
   "cell_type": "code",
   "execution_count": null,
   "metadata": {},
   "outputs": [],
   "source": [
    "# -- coding: utf-8 --\n",
    "# 目标2021-05-28\n",
    "content = \"\"\"\n",
    "白日依2021/05/26山尽，黄河入2021.05.27海流。\n",
    "欲穷千05-28-2020里目，更上一层5/29/2020楼\n",
    "欲穷千5-28-2020里目，更上一层05/29/2021楼\n",
    "\"\"\"\n",
    "import re\n",
    "content = re.sub(r\"(\\d{4})/(\\d{2})/(\\d{2})\", r\"\\1-\\2-\\3\", content)\n",
    "content = re.sub(r\"(\\d{4})\\.(\\d{2})\\.(\\d{2})\", r\"\\1-\\2-\\3\", content)\n",
    "content = re.sub(r\"(\\d{2})-(\\d{2})-(\\d{4})\", r\"\\3-\\1-\\2\", content)\n",
    "content = re.sub(r\"(\\d{1})-(\\d{2})-(\\d{4})\", r\"\\3-0\\1-\\2\", content)\n",
    "content = re.sub(r\"(\\d{2})/(\\d{2})/(\\d{4})\", r\"\\3-\\1-\\2\", content)\n",
    "content = re.sub(r\"(\\d{1})/(\\d{2})/(\\d{4})\", r\"\\3-\\1-\\2\", content)\n",
    "\n",
    "print(content)"
   ]
  },
  {
   "cell_type": "markdown",
   "metadata": {},
   "source": [
    "## 案例11.15 实现英文分词计算词频"
   ]
  },
  {
   "cell_type": "code",
   "execution_count": 27,
   "metadata": {},
   "outputs": [
    {
     "name": "stdout",
     "output_type": "stream",
     "text": [
      "to           16\n",
      "you           7\n",
      "the           7\n",
      "of            4\n",
      "a             4\n",
      "and           4\n",
      "your          4\n",
      "for           4\n",
      "equations     4\n",
      "Python        3\n",
      "dtype: int64\n"
     ]
    }
   ],
   "source": [
    "import re\n",
    "with open(\"./datas/Beginner guide to Python.txt\") as fin:\n",
    "    content = fin.read()\n",
    "\n",
    "words = re.split(r\"[\\s.()-?]+\", content)\n",
    "import pandas as pd\n",
    "print(pd.Series(words).value_counts()[:10])\n",
    "\n",
    "#print(words)"
   ]
  },
  {
   "cell_type": "markdown",
   "metadata": {},
   "source": [
    "## 案例11.16 实现中文文章分词"
   ]
  },
  {
   "cell_type": "code",
   "execution_count": null,
   "metadata": {},
   "outputs": [],
   "source": [
    "# -- coding: utf-8 --\n",
    "content = \"\"\"\n",
    "  在很久很久以前，地球是⼀个美丽的⼤森林，⾥⾯住着各种动物天上常突发奇想，⽤泥巴捏了两个\n",
    "⽤两只脚⾛路的怪物，上常给他们取了⼀个共同的名字“⼈”。不久，这两个⼈便⽣了许多可爱的孩⼦，\n",
    "他们在这⼟地上⽣活着，奋⽃着，探索着，创造着，就这样⼀代代⽣⽇存繁衍下去，⽽且队伍越来越庞\n",
    "⼤，⽣活越来越富裕。\n",
    "　　多年以后，随着⼈⼝的不断增加和⼈们对物质的⽆限追求，确切地说，是⼈类的贪婪让他们被短期\n",
    "的暴利迷住了双眼。⼈们开始肆意砍伐树⽊，捕杀动物，兴建⼯⼚，⼀年⼜⼀年，⼀代⼜⼀代，地球上\n",
    "的绿⾊逐渐减少，绿洲变沙漠，许多物种⾯临灭绝，⼤⽓层被破坏，江海湖泊被污染......风响起，黄沙\n",
    "漫天。⼈们开始陷⼊了惊慌、恐惧。\n",
    "　　于是，⼈们开始怀念“绿⾊”。聪明的⼈们把房屋家具刷成绿⾊，⾐服帽⼦染成绿⾊。“绿⾊”越来越\n",
    "多，⼈们吃得越来越⼩⼼⽤，使物品时也越来越谨慎。⼈们的病也越来越奇怪。\n",
    "　　最后，⼈们悔悟了，为什么那么⾃私？为什么那么愚昧？为什么只顾个⼈眼前的利益⽽不顾及⼉孙\n",
    "的死活？⼈类后悔着，后悔着......      \n",
    "\"\"\"\n",
    "import jieba\n",
    "import re\n",
    "\n",
    "content = re.sub(r\"[\\s。...，、]\", \"\", content)\n",
    "\n",
    "word_list = jieba.cut(content)\n",
    "print(list(word_list))"
   ]
  },
  {
   "cell_type": "markdown",
   "metadata": {},
   "source": [
    "## 案例11.17 统计鹿鼎记小说中的人名"
   ]
  },
  {
   "cell_type": "code",
   "execution_count": 34,
   "metadata": {},
   "outputs": [
    {
     "name": "stdout",
     "output_type": "stream",
     "text": [
      "李明 nr\n",
      "韩梅梅 nr\n"
     ]
    }
   ],
   "source": [
    "# -- coding: utf-8 --\n",
    "\n",
    "content = \"李明喜欢韩梅梅，他俩早恋了\"\n",
    "import jieba.posseg as posseg\n",
    "for word, flag in posseg.cut(content):\n",
    "    if flag == \"nr\":\n",
    "        print(word, flag)\n",
    "\n"
   ]
  },
  {
   "cell_type": "code",
   "execution_count": null,
   "metadata": {},
   "outputs": [],
   "source": [
    "import jieba.posseg as posseg\n",
    "with open(\"./datas/鹿鼎记.txt\", encoding='utf-8') as fin:\n",
    "    content = fin.read()\n",
    "    words = []\n",
    "for word, flag in posseg.cut(content):\n",
    "    if flag == \"nr\":\n",
    "       words.append(word)\n",
    "import pandas as pd\n",
    "print(pd.Series(words).value_counts()[:20])"
   ]
  }
 ],
 "metadata": {
  "kernelspec": {
   "display_name": "Python 3",
   "language": "python",
   "name": "python3"
  },
  "language_info": {
   "codemirror_mode": {
    "name": "ipython",
    "version": 3
   },
   "file_extension": ".py",
   "mimetype": "text/x-python",
   "name": "python",
   "nbconvert_exporter": "python",
   "pygments_lexer": "ipython3",
   "version": "3.7.0"
  }
 },
 "nbformat": 4,
 "nbformat_minor": 2
}
