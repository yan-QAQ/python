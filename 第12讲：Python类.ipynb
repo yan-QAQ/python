{
 "cells": [
  {
   "cell_type": "markdown",
   "metadata": {},
   "source": [
    "## 第十三讲：Python类-陈浩然"
   ]
  },
  {
   "cell_type": "markdown",
   "metadata": {},
   "source": [
    "## 如何创建类"
   ]
  },
  {
   "cell_type": "code",
   "execution_count": 1,
   "metadata": {},
   "outputs": [],
   "source": [
    "#首先了解类的创建过程，类是模板\n",
    "class Dog():\n",
    "    #__init__ 类的身体\n",
    "    def __init__(self,name,age):\n",
    "        self.name = name\n",
    "        self.age = age\n",
    "\n",
    "\n",
    "\n"
   ]
  },
  {
   "cell_type": "markdown",
   "metadata": {},
   "source": [
    "## 给类定义函数"
   ]
  },
  {
   "cell_type": "code",
   "execution_count": null,
   "metadata": {},
   "outputs": [],
   "source": [
    "class Dog():\n",
    "    def __init__(self,name,age，color):#狗的属性\n",
    "        self.name = name\n",
    "        self.age = age\n",
    "        self.color = color\n",
    "        \n",
    "    def sit(self):      #狗的行为\n",
    "        print(\"我坐下来了\")\n",
    "        \n",
    "    def roll_over(self):\n",
    "        print(\"我正在打滚\")"
   ]
  },
  {
   "cell_type": "markdown",
   "metadata": {},
   "source": [
    "## 创建类的实例对象，并调用它的属性和方法"
   ]
  },
  {
   "cell_type": "code",
   "execution_count": 8,
   "metadata": {},
   "outputs": [
    {
     "name": "stdout",
     "output_type": "stream",
     "text": [
      "大白\n",
      "小小\n",
      "大白我坐下来了\n",
      "小小我坐下来了\n",
      "大白我正在打滚\n",
      "小小我正在打滚\n"
     ]
    }
   ],
   "source": [
    "class Dog():\n",
    "    def __init__(self,name,age,color):#狗的属性\n",
    "        self.name = name\n",
    "        self.age = age\n",
    "        self.color = color\n",
    "        \n",
    "    def sit(self):      #狗的行为\n",
    "        print(self.name+\"我坐下来了\")\n",
    "        \n",
    "    def roll_over(self):\n",
    "        print(self.name+\"我正在打滚\")\n",
    "\n",
    "## 实例 实际例子\n",
    "# 对象名 也是一个 变量名\n",
    "dog1 = Dog(\"大白\", 2, \"黑色\")\n",
    "dog2 = Dog(\"小小\",3,\"黑白\")\n",
    "\n",
    "print(dog1.name)\n",
    "print(dog2.name)\n",
    "dog1.sit()\n",
    "dog2.sit()\n",
    "dog1.roll_over()\n",
    "dog2.roll_over()"
   ]
  },
  {
   "cell_type": "markdown",
   "metadata": {},
   "source": [
    "## 给类的属性添加默认值"
   ]
  },
  {
   "cell_type": "code",
   "execution_count": 30,
   "metadata": {},
   "outputs": [
    {
     "name": "stdout",
     "output_type": "stream",
     "text": [
      "2010\n",
      "奥迪 K1 2010\n",
      "这个车已经跑了0公里！\n"
     ]
    }
   ],
   "source": [
    "class Car():\n",
    "    def __init__(self, maker, model, year):\n",
    "        self.maker = maker\n",
    "        self.model = model\n",
    "        self.year = year\n",
    "        self.mileage = 0\n",
    "    def describle(self):\n",
    "        print(self.maker+\" \"+self.model+\" \"+self.year)\n",
    "\n",
    "    def get_mileage(self):\n",
    "        print(\"这个车已经跑了\"+str(self.mileage)+\"公里！\")\n",
    "car1 = Car(\"奥迪\", \"K1\", \"2010\")\n",
    "print(car1.year)   \n",
    "car1.describle()\n",
    "car1.get_mileage()"
   ]
  },
  {
   "cell_type": "markdown",
   "metadata": {},
   "source": [
    "## 通过两种方法修改属性的值"
   ]
  },
  {
   "cell_type": "code",
   "execution_count": 49,
   "metadata": {},
   "outputs": [
    {
     "name": "stdout",
     "output_type": "stream",
     "text": [
      "这个车已经跑了0公里！\n",
      "这个车已经跑了100公里！\n",
      "这个车已经跑了110公里！\n"
     ]
    }
   ],
   "source": [
    "class Car():\n",
    "    def __init__(self, maker, model, year):\n",
    "        self.maker = maker\n",
    "        self.model = model\n",
    "        self.year = year\n",
    "        self.mileage = 0\n",
    "    def describle(self):\n",
    "        print(self.maker+\" \"+self.model+\" \"+self.year)\n",
    "\n",
    "    def get_mileage(self):\n",
    "        print(\"这个车已经跑了\"+str(self.mileage)+\"公里！\")\n",
    "    \n",
    "    # 第二种修改方法  \n",
    "    def set_mileage(self,mileage):\n",
    "        if self.mileage < mileage:\n",
    "           self.mileage = mileage\n",
    "        \n",
    "    def add_mileage(self,mileage):\n",
    "        if mileage>=0:\n",
    "           self.mileage +=mileage\n",
    "        \n",
    "car1 = Car(\"奥迪\", \"K1\", \"2010\")\n",
    "#print(car1.year)   \n",
    "#car1.describle()\n",
    "# 第一种方法\n",
    "##if car1.mileage < 100:\n",
    "#    car1.mileage = 100\n",
    "#car1.get_mileage()   \n",
    "\n",
    "car1.get_mileage()\n",
    "car1.set_mileage(100)\n",
    "car1.get_mileage()\n",
    "car1.add_mileage(10)\n",
    "car1.get_mileage()"
   ]
  },
  {
   "cell_type": "markdown",
   "metadata": {},
   "source": [
    "## 继承"
   ]
  },
  {
   "cell_type": "code",
   "execution_count": 60,
   "metadata": {},
   "outputs": [
    {
     "name": "stdout",
     "output_type": "stream",
     "text": [
      "siki正在吃饭\n",
      "chen正在睡觉\n"
     ]
    }
   ],
   "source": [
    "class Person():\n",
    "    def __init__(self,name,age):\n",
    "        self.name = name\n",
    "        self.age = age\n",
    "    \n",
    "    def eat(self):\n",
    "        print(self.name+\"正在吃饭\")\n",
    "        \n",
    "    def sleep(self):\n",
    "        print(self.name+\"正在睡觉\")\n",
    "\n",
    "p1 = Person(\"siki\",20)\n",
    "p1.eat()\n",
    "\n",
    "class Teacher(Person):\n",
    "    def __int__(self,name,age):\n",
    "        super().__init__(name,age)#调用父类里面的初始化方法，构造方法\n",
    "t1 = Teacher(\"chen\",30)\n",
    "t1.sleep()"
   ]
  },
  {
   "cell_type": "markdown",
   "metadata": {},
   "source": [
    "## 继承添加独有的属性方法和方法重写"
   ]
  },
  {
   "cell_type": "code",
   "execution_count": 62,
   "metadata": {},
   "outputs": [
    {
     "name": "stdout",
     "output_type": "stream",
     "text": [
      "zhang去食堂吃饭\n"
     ]
    }
   ],
   "source": [
    "class Person():\n",
    "    def __init__(self,name,age):\n",
    "        self.name = name\n",
    "        self.age = age\n",
    "    \n",
    "    def eat(self):\n",
    "        print(self.name+\"正在吃饭\")\n",
    "        \n",
    "    def sleep(self):\n",
    "        print(self.name+\"正在睡觉\")\n",
    "\n",
    "class Teacher(Person):\n",
    "    def __int__(self,name,age):\n",
    "        super().__init__(name,age)#调用父类里面的初始化方法，构造方法\n",
    "        self.title = title\n",
    "    \n",
    "    def teach(self):\n",
    "        print(self.name+'正在教书')\n",
    "\n",
    "    #重写方法        \n",
    "    def eat(self):\n",
    "        print(self.name+\"去食堂吃饭\")\n",
    "        \n",
    "    \n",
    "t1 = Teacher(\"zhang\",28) \n",
    "t1.eat()"
   ]
  },
  {
   "cell_type": "markdown",
   "metadata": {},
   "source": [
    "## 将类的属性作为实例"
   ]
  },
  {
   "cell_type": "code",
   "execution_count": 67,
   "metadata": {},
   "outputs": [
    {
     "name": "stdout",
     "output_type": "stream",
     "text": [
      "siki正在走路\n",
      "发射了一颗子弹，攻击力为20\n"
     ]
    }
   ],
   "source": [
    "\n",
    "class Role():\n",
    "    def __init__(self,name,lv,role_type,damage,bullet_count):\n",
    "        self.name = name\n",
    "        self.lv = lv\n",
    "        self.role_type = role_type\n",
    "        self.damage = damage\n",
    "        self.bullet_count =bullet_count\n",
    "    \n",
    "    def move(self):\n",
    "        print(self.name+'正在走路')\n",
    "        \n",
    "    def attack(self):\n",
    "        self.bullet_count -= 1\n",
    "        print(\"发射了一颗子弹，攻击力为\"+str(self.damage))\n",
    "\n",
    "role = Role(\"siki\",10,'魔法师',20,20)\n",
    "role.move()\n",
    "role.attack()"
   ]
  },
  {
   "cell_type": "code",
   "execution_count": 70,
   "metadata": {},
   "outputs": [
    {
     "name": "stdout",
     "output_type": "stream",
     "text": [
      "siki正在走路\n",
      "发射了一颗子弹，攻击力为20\n"
     ]
    }
   ],
   "source": [
    "class Weapon():\n",
    "    def __init__(self,damage,bullet_count):\n",
    "        self.damage = damage\n",
    "        self.bullet_count =bullet_count\n",
    "    \n",
    "    def attack(self):\n",
    "        self.bullet_count -= 1\n",
    "        print(\"发射了一颗子弹，攻击力为\"+str(self.damage))   \n",
    "        \n",
    "class Role():\n",
    "    def __init__(self,name,lv,role_type,damage,bullet_count):\n",
    "        self.name = name\n",
    "        self.lv = lv\n",
    "        self.role_type = role_type\n",
    "        self.weapon = Weapon(damage,bullet_count)\n",
    "    \n",
    "    def move(self):\n",
    "        print(self.name+'正在走路')\n",
    "    def attack(self):\n",
    "        self.weapon.attack()\n",
    "role = Role(\"siki\",10,'魔法师',20,20)\n",
    "role.move()\n",
    "role.attack()"
   ]
  },
  {
   "cell_type": "markdown",
   "metadata": {},
   "source": [
    "## 通过模块导入类"
   ]
  },
  {
   "cell_type": "code",
   "execution_count": 12,
   "metadata": {},
   "outputs": [
    {
     "name": "stdout",
     "output_type": "stream",
     "text": [
      "siki正在走路\n",
      "发射了一颗子弹，攻击力为20\n"
     ]
    }
   ],
   "source": [
    "class Weapon():\n",
    "    def __init__(self,damage,bullet_count):\n",
    "        self.damage = damage\n",
    "        self.bullet_count =bullet_count\n",
    "    \n",
    "    def attack(self):\n",
    "        self.bullet_count -= 1\n",
    "        print(\"发射了一颗子弹，攻击力为\"+str(self.damage)) \n"
   ]
  },
  {
   "cell_type": "code",
   "execution_count": 16,
   "metadata": {},
   "outputs": [
    {
     "ename": "ModuleNotFoundError",
     "evalue": "No module named 'Weapon'",
     "output_type": "error",
     "traceback": [
      "\u001b[1;31m---------------------------------------------------------------------------\u001b[0m",
      "\u001b[1;31mModuleNotFoundError\u001b[0m                       Traceback (most recent call last)",
      "\u001b[1;32m<ipython-input-16-beaed88807e5>\u001b[0m in \u001b[0;36m<module>\u001b[1;34m()\u001b[0m\n\u001b[1;32m----> 1\u001b[1;33m \u001b[1;32mimport\u001b[0m \u001b[0mWeapon\u001b[0m\u001b[1;33m\u001b[0m\u001b[0m\n\u001b[0m\u001b[0;32m      2\u001b[0m \u001b[1;32mfrom\u001b[0m \u001b[0mweapon\u001b[0m \u001b[1;32mimport\u001b[0m \u001b[0mWeapon\u001b[0m\u001b[1;33m\u001b[0m\u001b[0m\n\u001b[0;32m      3\u001b[0m \u001b[1;32mclass\u001b[0m \u001b[0mRole\u001b[0m\u001b[1;33m(\u001b[0m\u001b[1;33m)\u001b[0m\u001b[1;33m:\u001b[0m\u001b[1;33m\u001b[0m\u001b[0m\n\u001b[0;32m      4\u001b[0m     \u001b[1;32mdef\u001b[0m \u001b[0m__init__\u001b[0m\u001b[1;33m(\u001b[0m\u001b[0mself\u001b[0m\u001b[1;33m,\u001b[0m\u001b[0mname\u001b[0m\u001b[1;33m,\u001b[0m\u001b[0mlv\u001b[0m\u001b[1;33m,\u001b[0m\u001b[0mrole_type\u001b[0m\u001b[1;33m,\u001b[0m\u001b[0mdamage\u001b[0m\u001b[1;33m,\u001b[0m\u001b[0mbullet_count\u001b[0m\u001b[1;33m)\u001b[0m\u001b[1;33m:\u001b[0m\u001b[1;33m\u001b[0m\u001b[0m\n\u001b[0;32m      5\u001b[0m         \u001b[0mself\u001b[0m\u001b[1;33m.\u001b[0m\u001b[0mname\u001b[0m \u001b[1;33m=\u001b[0m \u001b[0mname\u001b[0m\u001b[1;33m\u001b[0m\u001b[0m\n",
      "\u001b[1;31mModuleNotFoundError\u001b[0m: No module named 'Weapon'"
     ]
    }
   ],
   "source": [
    "import Weapon\n",
    "from weapon import Weapon\n",
    "class Role():\n",
    "    def __init__(self,name,lv,role_type,damage,bullet_count):\n",
    "        self.name = name\n",
    "        self.lv = lv\n",
    "        self.role_type = role_type\n",
    "        self.weapon = weapon.Weapon(damage,bullet_count)\n",
    "    \n",
    "    def move(self):\n",
    "        print(self.name+'正在走路')\n",
    "    def attack(self):\n",
    "        self.weapon.attack()\n",
    "role = Role(\"siki\",10,'魔法师',20,20)\n",
    "role.move()\n",
    "role.attack()"
   ]
  },
  {
   "cell_type": "code",
   "execution_count": null,
   "metadata": {},
   "outputs": [],
   "source": []
  }
 ],
 "metadata": {
  "kernelspec": {
   "display_name": "Python 3",
   "language": "python",
   "name": "python3"
  },
  "language_info": {
   "codemirror_mode": {
    "name": "ipython",
    "version": 3
   },
   "file_extension": ".py",
   "mimetype": "text/x-python",
   "name": "python",
   "nbconvert_exporter": "python",
   "pygments_lexer": "ipython3",
   "version": "3.7.0"
  }
 },
 "nbformat": 4,
 "nbformat_minor": 2
}
